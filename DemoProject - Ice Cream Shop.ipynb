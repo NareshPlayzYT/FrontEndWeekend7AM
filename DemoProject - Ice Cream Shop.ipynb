{
 "cells": [
  {
   "cell_type": "code",
   "execution_count": null,
   "id": "4d330377",
   "metadata": {},
   "outputs": [],
   "source": [
    "import mysql.connector\n",
    "from tabulate import tabulate"
   ]
  },
  {
   "cell_type": "code",
   "execution_count": 3,
   "id": "ccbe482b",
   "metadata": {},
   "outputs": [],
   "source": [
    "con = mysql.connector.connect(host=\"localhost\",user=\"root\",password=\"root\",database=\"demoproject\")\n",
    "res = con.cursor()"
   ]
  },
  {
   "cell_type": "code",
   "execution_count": null,
   "id": "7b54ea94",
   "metadata": {
    "scrolled": false
   },
   "outputs": [],
   "source": [
    "con = mysql.connector.connect(host=\"localhost\",user=\"root\",password=\"root\",database=\"demoproject\")\n",
    "res = con.cursor()\n",
    "\n",
    "icecreams = [\n",
    "    {\"types\": \"Cone\", \"flavour\": \"Chocolate\", \"price\": 30},\n",
    "    {\"types\": \"Cup\", \"flavour\": \"Vanilla\", \"price\": 40},\n",
    "    {\"types\": \"Sundae\", \"flavour\": \"Strawberry\", \"price\": 50}\n",
    "]\n",
    "\n",
    "def checkicecream(types,flavour):\n",
    "    for icecream in icecreams:\n",
    "        if icecream[\"types\"].lower() == types.lower() and icecream[\"flavour\"].lower() == flavour.lower():\n",
    "            return True, icecream[\"price\"]\n",
    "    return False, 0\n",
    "    \n",
    "def select():\n",
    "    qry = \"select * from icecreamshop\"\n",
    "    res.execute(qry)\n",
    "    result = res.fetchall()\n",
    "    print(tabulate(result,headers = [\"firstname\",\"phone \",\"city\",\"icecreamtype\",\"icecreamflavour\",\"quantity\",\"totalbill\"]))\n",
    "    print(\"-\"*95)\n",
    "    print(\"\\n\")\n",
    "    \n",
    "def insert():\n",
    "    firstname = input(\"Enter customer's first name: \")\n",
    "    phone = int(input(\"Enter customer's phone number: \"))\n",
    "    city = input(\"Enter customer's city: \")\n",
    "    icecreamtype = input(\"Enter ice cream type: \")    \n",
    "    icecreamflavour = input(\"Enter ice cream flavour - : \")\n",
    "    quantity = int(input(\"Enter quantity: \"))\n",
    "    \n",
    "    valid, price = checkicecream(icecreamtype,icecreamflavour)\n",
    "    if valid:\n",
    "        totalbill = quantity * price\n",
    "    else:\n",
    "        print(\"You have Entered Invalid Ice Cream Combinations\")\n",
    "        return\n",
    "    qry=\"insert into icecreamshop (firstname,phone,city,icecreamtype,icecreamflavour,quantity,totalbill) values (%s, %s, %s, %s, %s, %s, %s)\"\n",
    "    val = (firstname,phone,city,icecreamtype,icecreamflavour,quantity,totalbill)\n",
    "    res.execute(qry, val)\n",
    "    con.commit()\n",
    "    print(\"Order Taken successfully.\")\n",
    "    print(\"*\"*50)\n",
    "    print(\"\\n\")\n",
    "\n",
    "while True:\n",
    "    print(\"*\"*30)\n",
    "    print(\"ICE CREAM SHOP\")\n",
    "    print(\"*\"*30)\n",
    "    print(\"1. Display Table\")\n",
    "    print(\"2. Place an Order\")\n",
    "    choice = int(input(\"Enter Your Choice (1 or 2) : \"))\n",
    "    print(\"\\n\")\n",
    "    if choice == 1:\n",
    "        select()\n",
    "    elif choice == 2:\n",
    "        insert()\n",
    "    elif choice == 3:\n",
    "        break\n",
    "    else:\n",
    "        print(\"Invalid choice. Please try again.\")\n"
   ]
  },
  {
   "cell_type": "code",
   "execution_count": 10,
   "id": "a835c261",
   "metadata": {},
   "outputs": [
    {
     "data": {
      "text/plain": [
       "[{'types': 'Cone', 'flavour': 'Chocolate', 'price': 30},\n",
       " {'types': 'Cup', 'flavour': 'Vanilla', 'price': 40},\n",
       " {'types': 'Sundae', 'flavour': 'Strawberry', 'price': 50}]"
      ]
     },
     "execution_count": 10,
     "metadata": {},
     "output_type": "execute_result"
    }
   ],
   "source": [
    "icecreams"
   ]
  },
  {
   "cell_type": "code",
   "execution_count": null,
   "id": "4ff2fce0",
   "metadata": {},
   "outputs": [],
   "source": []
  }
 ],
 "metadata": {
  "kernelspec": {
   "display_name": "Python 3 (ipykernel)",
   "language": "python",
   "name": "python3"
  },
  "language_info": {
   "codemirror_mode": {
    "name": "ipython",
    "version": 3
   },
   "file_extension": ".py",
   "mimetype": "text/x-python",
   "name": "python",
   "nbconvert_exporter": "python",
   "pygments_lexer": "ipython3",
   "version": "3.10.9"
  }
 },
 "nbformat": 4,
 "nbformat_minor": 5
}
